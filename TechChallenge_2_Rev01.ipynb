{
  "nbformat": 4,
  "nbformat_minor": 0,
  "metadata": {
    "colab": {
      "provenance": [],
      "include_colab_link": true
    },
    "kernelspec": {
      "name": "python3",
      "display_name": "Python 3"
    },
    "language_info": {
      "name": "python"
    }
  },
  "cells": [
    {
      "cell_type": "markdown",
      "metadata": {
        "id": "view-in-github",
        "colab_type": "text"
      },
      "source": [
        "<a href=\"https://colab.research.google.com/github/laribar/TechChallenge2/blob/main/TechChallenge_2_Rev01.ipynb\" target=\"_parent\"><img src=\"https://colab.research.google.com/assets/colab-badge.svg\" alt=\"Open In Colab\"/></a>"
      ]
    },
    {
      "cell_type": "code",
      "execution_count": 502,
      "metadata": {
        "colab": {
          "base_uri": "https://localhost:8080/"
        },
        "id": "1oDaX3lrhJrg",
        "outputId": "c136a4d9-11a7-4473-d070-04d3085bc9ae"
      },
      "outputs": [
        {
          "output_type": "stream",
          "name": "stdout",
          "text": [
            "Scikit-learn version: 1.6.1\n"
          ]
        }
      ],
      "source": [
        "# Análise de dados e manipulação\n",
        "import pandas as pd\n",
        "import numpy as np\n",
        "\n",
        "# Visualização de dados\n",
        "import matplotlib.pyplot as plt\n",
        "import seaborn as sns\n",
        "\n",
        "# Machine Learning\n",
        "from sklearn.model_selection import train_test_split, GridSearchCV\n",
        "from sklearn.linear_model import LinearRegression\n",
        "from sklearn.ensemble import RandomForestRegressor\n",
        "from sklearn.metrics import mean_squared_error, mean_absolute_error, r2_score\n",
        "from sklearn.preprocessing import StandardScaler\n",
        "\n",
        "# Manipulação de datas\n",
        "from datetime import datetime\n",
        "from pandas.tseries.offsets import BDay\n",
        "\n",
        "# Verificação de versões (opcional)\n",
        "import sklearn\n",
        "print(f\"Scikit-learn version: {sklearn.__version__}\")"
      ]
    },
    {
      "cell_type": "code",
      "source": [
        "# Parte 2 - Criar Features\n",
        "\n",
        "# Criar Features\n",
        "for i in range(1, 6):\n",
        "    df[f'Lag{i}'] = df['Close'].shift(i)\n",
        "\n",
        "df['Daily_Return'] = df['Close'].pct_change()\n",
        "df['MA_7'] = df['Close'].rolling(window=7).mean()\n",
        "df['MA_30'] = df['Close'].rolling(window=30).mean()\n",
        "df['Volatility'] = df['Close'].pct_change().rolling(window=7).std()\n",
        "df['Log_Return'] = np.log(df['Close'] / df['Close'].shift(1))\n",
        "\n",
        "df['BB_Mid'] = df['Close'].rolling(window=20).mean()\n",
        "std_dev = df['Close'].rolling(window=20).std().squeeze()\n",
        "df['BB_Upper'] = df['BB_Mid'] + (std_dev * 2)\n",
        "df['BB_Lower'] = df['BB_Mid'] - (std_dev * 2)\n",
        "\n",
        "delta = df['Close'].diff(1)\n",
        "gain = (delta.where(delta > 0, 0)).rolling(window=14).mean()\n",
        "loss = (-delta.where(delta < 0, 0)).rolling(window=14).mean()\n",
        "rs = gain / loss\n",
        "df['RSI'] = 100 - (100 / (1 + rs))\n",
        "\n",
        "# Armazena a variável alvo antes do dropna()\n",
        "y = df['Close'].copy()\n",
        "\n",
        "# Remover NaNs\n",
        "df.dropna(inplace=True)\n",
        "\n",
        "# Criar X e y mantendo os índices alinhados\n",
        "X = df.drop(columns=['Close'])\n",
        "y = y.loc[X.index]  # Mantém y alinhado com X\n",
        "\n",
        "# Separação treino e teste baseada no tempo\n",
        "train_size = int(len(df) * 0.8)\n",
        "X_train, X_test = X.iloc[:train_size], X.iloc[train_size:]\n",
        "y_train, y_test = y.iloc[:train_size], y.iloc[train_size:]"
      ],
      "metadata": {
        "id": "fmEa8hI5p4b0"
      },
      "execution_count": 503,
      "outputs": []
    },
    {
      "cell_type": "code",
      "source": [
        "# Parte 3 - Teste e Ajuste para Estacionariedade\n",
        "\n",
        "from statsmodels.tsa.stattools import adfuller\n",
        "\n",
        "def test_stationarity(series, threshold=0.05):\n",
        "    result = adfuller(series)\n",
        "    print(f'ADF Statistic: {result[0]}')\n",
        "    print(f'p-value: {result[1]}')\n",
        "    return result[1] <= threshold\n",
        "\n",
        "def make_stationary(y_train, y_test, X_train, X_test):\n",
        "    if not test_stationarity(y_train):\n",
        "        y_train = y_train.diff().dropna()\n",
        "        y_test = y_test.diff().dropna()\n",
        "        print(\"Série não era estacionária. Aplicado diferenciação.\")\n",
        "\n",
        "        # Ajustando X para manter alinhamento com y\n",
        "        X_train = X_train.loc[y_train.index]\n",
        "        X_test = X_test.loc[y_test.index]\n",
        "\n",
        "    return y_train, y_test, X_train, X_test\n",
        "\n",
        "# Aplicar ajuste de estacionariedade\n",
        "y_train, y_test, X_train, X_test = make_stationary(y_train, y_test, X_train, X_test)"
      ],
      "metadata": {
        "id": "LtEKA-yaAMeN",
        "outputId": "ca6beb11-a5b6-4d13-bc67-18059b92ea91",
        "colab": {
          "base_uri": "https://localhost:8080/"
        }
      },
      "execution_count": 504,
      "outputs": [
        {
          "output_type": "stream",
          "name": "stdout",
          "text": [
            "ADF Statistic: -0.4151031575720165\n",
            "p-value: 0.907546386321177\n",
            "Série não era estacionária. Aplicado diferenciação.\n"
          ]
        }
      ]
    },
    {
      "cell_type": "code",
      "source": [
        "# Parte 4 - Normalização para Modelos Lineares (evitando data leakage)\n",
        "scaler = StandardScaler()\n",
        "X_train_scaled = scaler.fit_transform(X_train)  # Fit apenas no treino\n",
        "X_test_scaled = scaler.transform(X_test)  # Transform no teste"
      ],
      "metadata": {
        "id": "6u3ZBu28qDQ7"
      },
      "execution_count": 505,
      "outputs": []
    },
    {
      "cell_type": "code",
      "source": [
        "# Parte 5 - Ajustando Modelos\n",
        "\n",
        "# Random Forest NÃO precisa de escalonamento, então usamos os dados brutos\n",
        "best_params_rf = {'n_estimators': 210, 'max_depth': 9}\n",
        "rf_model = RandomForestRegressor(**best_params_rf)\n",
        "rf_model.fit(X_train, y_train)  # Treinamos com os dados originais, sem escalonamento\n",
        "\n",
        "# Previsões\n",
        "y_pred_rf = rf_model.predict(X_test)  # Também sem escalonamento\n",
        "\n",
        "# Se aplicamos diferenciação, precisamos reverter os valores previstos\n",
        "if 'diff' in str(y_train.name).lower():  # Verifica se aplicamos diff()\n",
        "    y_pred_rf = pd.Series(y_pred_rf, index=y_test.index).cumsum() + y.iloc[train_size]\n",
        "\n",
        "# Avaliação do Modelo\n",
        "mse = mean_squared_error(y_test, y_pred_rf)\n",
        "mae = mean_absolute_error(y_test, y_pred_rf)\n",
        "r2 = r2_score(y_test, y_pred_rf)\n",
        "\n",
        "print(f'MSE: {mse:.2f}')\n",
        "print(f'MAE: {mae:.2f}')\n",
        "print(f'R²: {r2:.4f}')\n"
      ],
      "metadata": {
        "id": "fOuk0m89Bc1g",
        "outputId": "073f9dd1-8e60-4e33-8728-93200638b0f9",
        "colab": {
          "base_uri": "https://localhost:8080/"
        }
      },
      "execution_count": 508,
      "outputs": [
        {
          "output_type": "stream",
          "name": "stdout",
          "text": [
            "MSE: 224877.96\n",
            "MAE: 218.72\n",
            "R²: 0.9060\n"
          ]
        }
      ]
    }
  ]
}