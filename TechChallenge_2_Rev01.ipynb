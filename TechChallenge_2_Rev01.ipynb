{
  "nbformat": 4,
  "nbformat_minor": 0,
  "metadata": {
    "colab": {
      "provenance": [],
      "include_colab_link": true
    },
    "kernelspec": {
      "name": "python3",
      "display_name": "Python 3"
    },
    "language_info": {
      "name": "python"
    }
  },
  "cells": [
    {
      "cell_type": "markdown",
      "metadata": {
        "id": "view-in-github",
        "colab_type": "text"
      },
      "source": [
        "<a href=\"https://colab.research.google.com/github/laribar/TechChallenge2/blob/main/TechChallenge_2_Rev01.ipynb\" target=\"_parent\"><img src=\"https://colab.research.google.com/assets/colab-badge.svg\" alt=\"Open In Colab\"/></a>"
      ]
    },
    {
      "cell_type": "code",
      "source": [
        "#!pip install yfinance --upgrade --no-cache-dir\n"
      ],
      "metadata": {
        "id": "pBgkUpf4PklG"
      },
      "execution_count": 116,
      "outputs": []
    },
    {
      "cell_type": "code",
      "execution_count": 117,
      "metadata": {
        "colab": {
          "base_uri": "https://localhost:8080/"
        },
        "id": "1oDaX3lrhJrg",
        "outputId": "09633e03-5d54-4dd9-bf48-f64b9e385af6"
      },
      "outputs": [
        {
          "output_type": "stream",
          "name": "stdout",
          "text": [
            "Scikit-learn version: 1.6.1\n"
          ]
        }
      ],
      "source": [
        "# Análise de dados e manipulação\n",
        "import pandas as pd\n",
        "import numpy as np\n",
        "\n",
        "# Visualização de dados\n",
        "import matplotlib.pyplot as plt\n",
        "import seaborn as sns\n",
        "\n",
        "\n",
        "from statsmodels.tsa.stattools import adfuller\n",
        "\n",
        "# Machine Learning\n",
        "from sklearn.model_selection import train_test_split, GridSearchCV\n",
        "from sklearn.linear_model import LinearRegression\n",
        "from sklearn.ensemble import RandomForestRegressor\n",
        "from sklearn.metrics import mean_squared_error, mean_absolute_error, r2_score\n",
        "from sklearn.preprocessing import StandardScaler\n",
        "# pegar os dados\n",
        "import yfinance as yf\n",
        "# Manipulação de datas\n",
        "from datetime import datetime\n",
        "from pandas.tseries.offsets import BDay\n",
        "\n",
        "# Verificação de versões (opcional)\n",
        "import sklearn\n",
        "print(f\"Scikit-learn version: {sklearn.__version__}\")"
      ]
    },
    {
      "cell_type": "code",
      "source": [
        "RANDOM_STATE = 42\n",
        "np.random.seed(RANDOM_STATE)\n"
      ],
      "metadata": {
        "id": "icDec42VR2np"
      },
      "execution_count": 118,
      "outputs": []
    },
    {
      "cell_type": "code",
      "source": [
        "import warnings\n",
        "import logging\n",
        "from tqdm import tqdm\n",
        "import yfinance as yf\n",
        "import pandas as pd\n",
        "from datetime import datetime\n",
        "\n",
        "# Configuração de logging\n",
        "logging.basicConfig(level=logging.INFO, format='%(asctime)s - %(levelname)s - %(message)s')\n",
        "\n",
        "# Ignorar warnings desnecessários\n",
        "warnings.filterwarnings('ignore')\n",
        "\n",
        "print(\"Baixando dados...\")\n",
        "\n",
        "# Baixar os dados do Ibovespa\n",
        "df = yf.download('^BVSP', start='1994-07-01', end=datetime.now().strftime('%Y-%m-%d'))\n",
        "\n",
        "# Verificar se os dados foram baixados corretamente\n",
        "if df.empty:\n",
        "    logging.warning(\"Falha ao baixar os dados do Ibovespa. Verifique a conexão ou a disponibilidade do Yahoo Finance.\")\n",
        "else:\n",
        "    logging.info(f\"Dados baixados com sucesso! Total de registros: {df.shape[0]}\")\n",
        "\n",
        "# Preencher valores ausentes e garantir que o índice seja datetime\n",
        "df = df.ffill()\n",
        "df.index = pd.to_datetime(df.index)\n"
      ],
      "metadata": {
        "id": "M8yk2HE3O-IW",
        "outputId": "11a1bbd5-652c-4a7d-f7fc-955e70474241",
        "colab": {
          "base_uri": "https://localhost:8080/"
        }
      },
      "execution_count": 119,
      "outputs": [
        {
          "output_type": "stream",
          "name": "stderr",
          "text": [
            "\r[*********************100%***********************]  1 of 1 completed"
          ]
        },
        {
          "output_type": "stream",
          "name": "stdout",
          "text": [
            "Baixando dados...\n"
          ]
        },
        {
          "output_type": "stream",
          "name": "stderr",
          "text": [
            "\n"
          ]
        }
      ]
    },
    {
      "cell_type": "code",
      "source": [
        "df.head()\n",
        "df.info()"
      ],
      "metadata": {
        "id": "Sq_D_R_MPuhp",
        "outputId": "b6a65dee-50ef-4df7-d7b5-3d69cb6ce643",
        "colab": {
          "base_uri": "https://localhost:8080/"
        }
      },
      "execution_count": 120,
      "outputs": [
        {
          "output_type": "stream",
          "name": "stdout",
          "text": [
            "<class 'pandas.core.frame.DataFrame'>\n",
            "DatetimeIndex: 7591 entries, 1994-07-04 to 2025-02-26\n",
            "Data columns (total 5 columns):\n",
            " #   Column           Non-Null Count  Dtype  \n",
            "---  ------           --------------  -----  \n",
            " 0   (Close, ^BVSP)   7591 non-null   float64\n",
            " 1   (High, ^BVSP)    7591 non-null   float64\n",
            " 2   (Low, ^BVSP)     7591 non-null   float64\n",
            " 3   (Open, ^BVSP)    7591 non-null   float64\n",
            " 4   (Volume, ^BVSP)  7591 non-null   int64  \n",
            "dtypes: float64(4), int64(1)\n",
            "memory usage: 355.8 KB\n"
          ]
        }
      ]
    },
    {
      "cell_type": "code",
      "source": [
        "# Criar Features\n",
        "for i in range(1, 6):\n",
        "    df[f'Lag{i}'] = df['Close'].shift(i)\n",
        "\n",
        "df['Daily_Return'] = df['Close'].pct_change()\n",
        "df['MA_7'] = df['Close'].rolling(window=7, min_periods=1).mean()\n",
        "df['MA_30'] = df['Close'].rolling(window=30, min_periods=1).mean()\n",
        "df['Volatility'] = df['Close'].pct_change().rolling(window=7, min_periods=1).std()\n",
        "df['Log_Return'] = np.log(df['Close'] / df['Close'].shift(1))\n",
        "\n",
        "# Bandas de Bollinger\n",
        "df['BB_Mid'] = df['Close'].rolling(window=20, min_periods=1).mean()\n",
        "std_dev = df['Close'].rolling(window=20, min_periods=1).std().squeeze()\n",
        "df['BB_Upper'] = df['BB_Mid'] + (std_dev * 2)\n",
        "df['BB_Lower'] = df['BB_Mid'] - (std_dev * 2)\n",
        "\n",
        "# RSI (Relative Strength Index)\n",
        "delta = df['Close'].diff(1)\n",
        "gain = (delta.where(delta > 0, 0)).rolling(window=14, min_periods=1).mean()\n",
        "loss = (-delta.where(delta < 0, 0)).rolling(window=14, min_periods=1).mean()\n",
        "rs = gain / loss\n",
        "df['RSI'] = 100 - (100 / (1 + rs))\n",
        "\n",
        "# Armazena a variável alvo antes do dropna()\n",
        "y = df['Close'].copy()\n",
        "\n",
        "# Remover NaNs\n",
        "df.dropna(inplace=True)\n",
        "\n",
        "# Criar X e y mantendo os índices alinhados\n",
        "X = df.drop(columns=['Close'])\n",
        "y = y.loc[X.index]  # Mantém y alinhado com X\n",
        "\n",
        "# Separação treino e teste baseada no tempo\n",
        "train_size = int(len(df) * 0.8)\n",
        "X_train, X_test = X.iloc[:train_size], X.iloc[train_size:]\n",
        "y_train, y_test = y.iloc[:train_size], y.iloc[train_size:]\n"
      ],
      "metadata": {
        "id": "fmEa8hI5p4b0"
      },
      "execution_count": 121,
      "outputs": []
    },
    {
      "cell_type": "code",
      "source": [
        "print(f\"Linhas antes do dropna: {len(df)}\")\n",
        "df.dropna(inplace=True)\n",
        "print(f\"Linhas após o dropna: {len(df)}\")\n"
      ],
      "metadata": {
        "id": "22hoWw-1QGoD",
        "outputId": "ef8f7a9c-731e-4aad-ac61-47fab7bf41b8",
        "colab": {
          "base_uri": "https://localhost:8080/"
        }
      },
      "execution_count": 122,
      "outputs": [
        {
          "output_type": "stream",
          "name": "stdout",
          "text": [
            "Linhas antes do dropna: 7586\n",
            "Linhas após o dropna: 7586\n"
          ]
        }
      ]
    },
    {
      "cell_type": "code",
      "source": [
        "#parte 3\n",
        "\n",
        "\n",
        "def test_stationarity(series, threshold=0.05):\n",
        "    result = adfuller(series.dropna())  # Remover NaNs antes do teste\n",
        "    print(f'ADF Statistic: {result[0]:.4f}')\n",
        "    print(f'p-value: {result[1]:.4f}')\n",
        "    return result[1] <= threshold\n",
        "\n",
        "def make_stationary(y_train, y_test, X_train, X_test):\n",
        "    if not test_stationarity(y_train):\n",
        "        y_train = y_train.diff().dropna()\n",
        "        y_test = y_test.diff().dropna()\n",
        "        print(\"Série não era estacionária. Aplicada diferenciação de primeira ordem.\")\n",
        "\n",
        "        # Ajustando X para manter alinhamento com y\n",
        "        X_train = X_train.loc[y_train.index]\n",
        "        X_test = X_test.loc[y_test.index]\n",
        "\n",
        "    return y_train, y_test, X_train, X_test\n",
        "\n",
        "# Aplicar ajuste de estacionariedade\n",
        "y_train, y_test, X_train, X_test = make_stationary(y_train, y_test, X_train, X_test)\n"
      ],
      "metadata": {
        "id": "LtEKA-yaAMeN",
        "outputId": "ce3e6187-2640-49c3-9595-c824acc2abb9",
        "colab": {
          "base_uri": "https://localhost:8080/"
        }
      },
      "execution_count": 123,
      "outputs": [
        {
          "output_type": "stream",
          "name": "stdout",
          "text": [
            "ADF Statistic: -0.1832\n",
            "p-value: 0.9405\n",
            "Série não era estacionária. Aplicada diferenciação de primeira ordem.\n"
          ]
        }
      ]
    },
    {
      "cell_type": "code",
      "source": [
        "# Parte 4 - Normalização para Modelos Lineares (evitando data leakage)\n",
        "\n",
        "scaler = StandardScaler()\n",
        "\n",
        "# Fit apenas no conjunto de treino e transformação nos dois conjuntos\n",
        "X_train_scaled = scaler.fit_transform(X_train)\n",
        "X_test_scaled = scaler.transform(X_test)\n"
      ],
      "metadata": {
        "id": "6u3ZBu28qDQ7"
      },
      "execution_count": 124,
      "outputs": []
    },
    {
      "cell_type": "code",
      "source": [
        "# Ajustando Modelos\n",
        "\n",
        "# Random Forest NÃO precisa de escalonamento, então usamos os dados brutos\n",
        "best_params_rf = {'n_estimators': 210, 'max_depth': 9, 'random_state': 42}  # Garantir reprodutibilidade\n",
        "rf_model = RandomForestRegressor(**best_params_rf)\n",
        "\n",
        "# Treinamento do modelo\n",
        "rf_model.fit(X_train, y_train)  # Treinamos com os dados originais, sem escalonamento\n",
        "\n",
        "# Previsões\n",
        "y_pred_rf = rf_model.predict(X_test)  # Também sem escalonamento\n",
        "y_pred_rf = pd.Series(y_pred_rf, index=y_test.index)  # Garantir que o índice seja o mesmo de y_test\n",
        "\n",
        "# Se aplicamos diferenciação, precisamos reverter os valores previstos\n",
        "if \"diff\" in y_train.index.name.lower() if y_train.index.name else False:\n",
        "    y_pred_rf = y_pred_rf.cumsum() + y.iloc[train_size - 1]  # Usar o último valor antes da diferença\n",
        "\n",
        "# Avaliação do Modelo\n",
        "mse = mean_squared_error(y_test, y_pred_rf)\n",
        "mae = mean_absolute_error(y_test, y_pred_rf)\n",
        "r2 = r2_score(y_test, y_pred_rf)\n",
        "\n",
        "# Exibir métricas com formatação\n",
        "print(f'MSE: {mse:.2f}')\n",
        "print(f'MAE: {mae:.2f}')\n",
        "print(f'R²: {r2:.4f}')\n"
      ],
      "metadata": {
        "id": "fOuk0m89Bc1g",
        "outputId": "e9271455-7f50-4272-837c-cfa9d6208bbd",
        "colab": {
          "base_uri": "https://localhost:8080/"
        }
      },
      "execution_count": 127,
      "outputs": [
        {
          "output_type": "stream",
          "name": "stdout",
          "text": [
            "MSE: 261140.55\n",
            "MAE: 277.65\n",
            "R²: 0.8892\n"
          ]
        }
      ]
    }
  ]
}